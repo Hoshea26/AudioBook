{
 "cells": [
  {
   "metadata": {},
   "cell_type": "code",
   "outputs": [],
   "execution_count": 3,
   "source": [
    "import os\n",
    "from google.cloud import texttospeech"
   ],
   "id": "8dbae1a86ae9b9af"
  },
  {
   "metadata": {},
   "cell_type": "code",
   "outputs": [],
   "execution_count": 34,
   "source": [
    "def synthesize_text(text, voice_name, output_file):\n",
    "    \"\"\"\n",
    "    Synthesizes speech from the input string of text.\n",
    "\n",
    "    Args:\n",
    "        text (str): The text to be synthesized.\n",
    "        voice_name (str): The name of the voice to use.\n",
    "        output_file (str): The path to save the output audio file.\n",
    "    \"\"\"\n",
    "    try:\n",
    "        # Initialize the Text-to-Speech client\n",
    "        client = texttospeech.TextToSpeechClient()\n",
    "\n",
    "        # Set the text input to be synthesized\n",
    "        synthesis_input = texttospeech.SynthesisInput(text=text)\n",
    "\n",
    "        # Build the voice request, select the language code (\"en-US\") and the voice name\n",
    "        voice = texttospeech.VoiceSelectionParams(\n",
    "            language_code=\"en-US\",\n",
    "            name=voice_name\n",
    "        )\n",
    "\n",
    "        # Select the type of audio file you want returned\n",
    "        audio_config = texttospeech.AudioConfig(\n",
    "            audio_encoding=texttospeech.AudioEncoding.MP3\n",
    "        )\n",
    "\n",
    "        # Perform the text-to-speech request\n",
    "        response = client.synthesize_speech(\n",
    "            input=synthesis_input, voice=voice, audio_config=audio_config\n",
    "        )\n",
    "\n",
    "        # Write the response to the output file\n",
    "        with open(output_file, \"wb\") as out:\n",
    "            out.write(response.audio_content)\n",
    "            print(f\"Audio content written to file '{output_file}'\")\n",
    "\n",
    "    except Exception as e:\n",
    "        print(f\"An error occurred: {e}\")"
   ],
   "id": "50c2ed543f493e92"
  },
  {
   "metadata": {},
   "cell_type": "code",
   "outputs": [],
   "execution_count": 4,
   "source": "os.environ[\"GOOGLE_APPLICATION_CREDENTIALS\"] = \"/Users/noctua/PycharmProjects/AudioBook/audio-book-437518-2acf753e8c63.json\"",
   "id": "38b13881dbdc5f86"
  },
  {
   "metadata": {},
   "cell_type": "code",
   "outputs": [
    {
     "ename": "NameError",
     "evalue": "name 'synthesize_text' is not defined",
     "output_type": "error",
     "traceback": [
      "\u001B[0;31m---------------------------------------------------------------------------\u001B[0m",
      "\u001B[0;31mNameError\u001B[0m                                 Traceback (most recent call last)",
      "Cell \u001B[0;32mIn[1], line 7\u001B[0m\n\u001B[1;32m      4\u001B[0m voice_name \u001B[38;5;241m=\u001B[39m \u001B[38;5;124m\"\u001B[39m\u001B[38;5;124men-US-Wavenet-D\u001B[39m\u001B[38;5;124m\"\u001B[39m  \u001B[38;5;66;03m# You can choose different voices\u001B[39;00m\n\u001B[1;32m      5\u001B[0m output_file \u001B[38;5;241m=\u001B[39m \u001B[38;5;124m\"\u001B[39m\u001B[38;5;124moutput.mp3\u001B[39m\u001B[38;5;124m\"\u001B[39m\n\u001B[0;32m----> 7\u001B[0m synthesize_text(text, voice_name, output_file)\n",
      "\u001B[0;31mNameError\u001B[0m: name 'synthesize_text' is not defined"
     ]
    }
   ],
   "execution_count": 1,
   "source": [
    "# Example usage of the synthesize_text function\n",
    "\n",
    "text = \"Hello, this is a test.\"\n",
    "voice_name = \"en-US-Wavenet-D\"  # You can choose different voices\n",
    "output_file = \"output.mp3\"\n",
    "\n",
    "for v in voices:\n",
    "    synthesize_text(text, voice_name, output_file)"
   ],
   "id": "94bd97d3fce93098"
  },
  {
   "metadata": {},
   "cell_type": "code",
   "outputs": [
    {
     "data": {
      "text/plain": [
       "<IPython.lib.display.Audio object>"
      ],
      "text/html": [
       "\n",
       "                <audio  controls=\"controls\" >\n",
       "                    <source src=\"data:audio/mpeg;base64,//OExAAAAAAAAAAAAAAAAAAAAAAAAAAAAAAAAAAAAAAAAAAAAAAAAAAAAAAAAAAAAAAAAAAAAAAAAAAAAAAAAAAAAAAAAAAAAAAAAAAAAAAAAAAAAAAAAAAAAAAAAAAAAAAAAAAAAAAAAAAAAAAAAAAAAAAAAAAAAAAAAAAAAAAAAAAAAAAAAAAAAAAAAAAAAAAAAAAAAAAAAAAAAAAAAAAAAAAAAAAAAAAAAAAAAAAAAAAAAAAAAAAAAAAAAAAA//OExAAnW2n8AMMKvTERLEwrNZS9b0OI/lLFM5h/JzroQJDYHDQz9szss692HMbjMDxXTtbMzNe//XYMFiynX9YsMOylG15mfvy3aqy7DjCxyZ5FORjhwABTO6EOJh9zh9yMS8TD/ISdA4Sgvop+RuICinkIHGO+omLzoRqCiuJuSkhG/Of9XIRTkaefO87HPncQHBxiJ//wR4Bb84Dsy4eHgAAwAAYePzHqBiDgBHBpkXkdyxdxlciaxGX/cuH3//OExBUoMkZAAMPQufDrci2HRNAYIM6vtTMdsUBzq5HsERdquKK+HOfAN9RIRdcLG6q/MCHG1TV7skNXs7YCwUBYSAIAEGnp6UiCgoZJ8ci4uUDQzl0Gi4uLnu8ilcGRXcVon/E/N/2miRUweHpCAAH2z/Z5+e//8HYGPkMjlhGvLwHYCI4QwjnMD2fAP39vt/38d/2k8A+SBkBLSfn4PQ8UDDOXNRtI9awStXP3NTEgJQOgoxM0LZEMfqOMbghB//OExCctVDpkAHvG3AhOCGIQPwg5loeSgwzQOQeR3BeDtFvLEEYPBF2VlaVUaca6XZyeHAvDcSpfFOXwp9KAuEqccWeuYSca3agZLyR9QHjG2zoEAxJmBix4odwNlBAHkdFv5G/oUSaGE+t8/POJPLruef+kSET+kL8vnb2c98vh7+b2Jnv/EV4+/13cj7v6PKc8khOf16U/SCEqbssOBQAzx8OEXjMghPhAQMAJiwcjKMhBkhcHHC5gYCJEmAgM//OExCQwW+p0AN4G3FFbgoDF+EJgWMkAmWv9c7oIAIZkSKjaRuXrsQteB/sXaa2s2Ho72XSO3SSqvcxtzNWnqU1eVy+OPVG5VKGeSFdknllaWztSl5Z1jvWNLHbFDKO0+cznUGGczQmnH0Y0KqZQz9sy3dzBIZ6lmZ9z3e0jP7ef+Vv5eU/87/P//Lr2vC6aA2eIRpokLYFeGQcXuLiaf7hw44gwwhJoqrGVmlc4Dp8dIKjwS4woUB3AmFIkKjSz//OExBUra06IAN5OvZSRd8CFhoAC9qaTTD1PLQv67ZovxtogBPDM4NYakoBg1YY1KGRZb7MSmW1rd/X4Wv7U7r8+Zfn//MbvXZpoDrWJilll2VWdY5C80bDoPyJcIAWiKIgrBMMEjwfjhp4mNRjiJymHtQ9vV0u+hjD6Ozsjr/ZzTJ7t//9P///obpUw451Qkc8FLz3d9P6DWYvBpyY5/rye738dOqz8RMRIIexD0LPCiiNQAlFIwKCRGVQWfmpM//OExBouC/J8AObO3ERGZjBIPYkzgEhsweDGyw6BTc6cIcdphiBGVQRcs7G0TquFMxHXdxn/zlP/2Vf+q3/9Xn63//W7+6aW42lOm50VM3B7KuU01LHKddaC4ysAqeW5NhYPT9xAeKS4+LElS1UfR9G1M1OseROqzns6Oi3nIzTTjlQ2dZ/12////07n05h+h8uguLOPKt2Oqzmm+ahxyoyzVY8go5vIvBsJ1bsUeMKMgSvqsCBECQ4xcITBoDFg//OExBQo+ip4AOaamLGIhcdjCbNlhC5QbvGhbBhy6JiUdy+xgzwG9N1jMrBxVfupliNFurGrXfuf/1v/6v/uZ3/3OkhmK8mrmwkwlxkaiTBCIORS0omA7hOjAxEmE6MxxEmRDMhjsG8pHlliLOe2f9aO6Ls566l3QXRTMwCD8UFxRFL3t9n/+WAQgDg9E6eBVv+g4XHNNxzLLRCMIH1iSWpgF3GNCWo0iIYvSB9lmix9AocMBic229DGADTGHQGY//OExCMvXDJ0AOPK3ekIAg4oMYCGJohVmbQmSpVBqQf6uXg1QlHGxvK/eqxK48W9t4prMlP5Nf5xT5p/jeb6jahNyRUbMeQdIm5c2InRoPGY6jwXmI0VphOUxSnfiJhUPj3KJmHlJbqxyXIdDiiFI9WPYeRHQiKRzjKjWQ5FUUM7jJq9/////1czAQ7hjuMX+///8yM6GccpA8GFHtRS6iJ3EBIecOU1lsKaCYNHBy0ljwqV4AQGaUtxmkVo3AAL//OExBgtK+Z8AOYO3ZjiUmAQ6TCJcJgshA5QF20FkKjNJEGsqM3k2pBD8rkTqXuzUP2+au97llzX7w5+W+/vmf/v//Xf3d1/LNNSUktdBubrw8z6MVZVQP7D9HJ4JrvvBcCt/NuyC0PG5IbD+ajGHWPut3aiKYg6x9XR6mGzledPZTTmUdKkz3Gw0Nc9XdbX1t///79B92OE9aV////ztD22I0S/b5+ZnzrP5Ui6Y+VA0KHvaAY/EhxUeoHNDEA7//OExBYra0KIAOaUvDZTIMyDIWAqMxh0RHDCrWX2Yo2AzprxLKo+psAh7Xop2HYvU+Yv59/v97v9fvDDn5Z97ree/1hhznamHbtm1NN3iTkPQ7UOiFFIghJFQekgFAKMSwuxSCsQAXJKC4XKi2XPMIydU/Tu9lUyyuiKefIEmdOmphIYaaeqHlmuerpnvS3///9zlcmnlyilDa/9cgt6zJz2lphF7ZpmcmYuYcAu9EzCAQ0V4DgV3ooZXjGvJady//OExBsqonqUAN6euJ3EQAkcSBYCApI465QRsTmQKbcm5b50iOy9LGczDnefVlHP1WlnPyr/+95f/4Z5/qrb7qVOTPmJXEsTUKVGoe8fK5rftSeT6sc0rCK8licR7MrVRF3JDhyUu/v///nN9+8DG9zxHl9sLneP8/f+v94+/q2NYzJJgHgOlw5tJj/9BQArOaaCEU/UNHDLX2valccrzrmSHJQTUrwIDzYENOGAhkBMJHj4wyWRhh5gRoymzBbO//OExCMoO8acAN5K3MgzFlaSDQEAdy7TnXXgABIfw3SNwke9UkdvbsUm8d/X53+V+fnnl3PtPY+vTzU/G60mtzs3nXqXdbldFT08rgKURyVSmNRmdcWcEkEymOJjSIn98g88TCQuHhEDsLybVv7+3PpN/3XN////r//dbOnPefqpx9R5wjaJ/E4QHMc6RD80a5M6QohmPjhwZnSeplWpkaxqwy7QsGAwUFBXpXWIwYNIXyWELYCAK+VgC/iCUI03//OExDUni7KkANYK3BceNPY/NFMTsun7eVnesLvb/f/LW899y525qbtx+nhh1Jp1n+llaTav1O5VoxUna8XqyOjn7kvsVr5ndbkc07v/6SsNIpjAMHUMcXdb/+fU6l/+3sev////26f/X62ObHq5pJXqFwvY9dX6iyzP5CFZMIhDMDSuXgYRA5CcSogZNVkZYL/IhBBwYgVQyBDQkROy9gyCoBLA0gQgKstCSRUo4K2A3w5n7hiDbWaX1i29Zpf6//OExEkkesKoAMvUuLUxBbJZQkCDMH4jHy46WMYRMkIBXIR+MRYOc0lO3e6mGTD1mPv/pqbzasc573//1//ek1EQlUSkWf/0+3QACaUmTpj9ZKkCliymhky+zUGams06yFTKBG2cMBAhgKchYYyWwmwpMaKXacMrQFhxhH5Kh9hQpeAvEQZQ6mAbWpx/n3znnvnJA/M/L4at26C1Yb2mnsW8JmiXUseMmXBxE8VRLiYtj5FqyrIq9vmiy8yulOnm//OExGooKbqcAM4elPmVuIkGu6SZ3i/3EfYd/xrv+gqYFxmF5z/qNlBMHjLv967iD6RfAwZECyo9twWM1XphscdFbF3FWQ8pUuTCEAWyZQgLRJQOMQFxzAMJzgPcby44WwgSEBxKbzCkUk4U5U6H+LyuMQkGnwWoLPR588Y9ays7sdqdxtfnjjrLHLvcd83a1hnMSmmiUj3DX3Z36Dtyi+n5dtZb5///8y0rGVWc1Vr///8yIu9dnr2t2//139ba//OExHwkVAKgAM4E3Xrv//f2pL03RKNKjv+prUeWzq0V1RVwQuEH+Zb83JoaBmRFJdDJ4FASUiYIeYESbB2IjpmAxMzQVKoNkyvlDg+wjALJhIAEo+Aih6gz5ESOJkmWRSZJNA2cyZaK0VosjUlSUcStGRPFw8TizVRkXCONSUWRhfLyJeUZJJJOj/+6GFAzf///slvejFaiFuXqxFuxBZyOprOoZ9FMrU///pjKqzL1QxXMj2q6aKjrtMiJVyv3//OExJ0oNAqQANRE3AsWG6VR8BDD2jCV6YsKBloknHGKIYIQCoAOijS0nCmQFk3xLZn4NMkxPREWAE6KUMwIO1n5ItNcN9GrS+dY3/X/O5db1b/FdbqzM7DFVkV0MYSDw0ASipiC6DFrp33/r//////pnVVizSsxaOypDoKIB5xEVHrEnFxj7HK/hJQUCoaLIUaCQlO5I8WfhxyjYVYoqAQ0hy0VADDOY2MQMCXho7BUsKgZjIENFBggeZKDCiQZ//OExK8ksrqAANPKuGgpKIGECLGHzDAZ/wQChAGXQBIIIBgchhcgZomBcxsRZRkastBK9TKWrd3R9Gxkksulg+bEsswc4kdNSZLpFTM8asnstFFd//9v/////TMX37fSYQWOLCrVBYxrrRqVv///RlOVz56udEZpDMipXlr0TfIhCuU6HCFjJV+KCgQM72IFSgvKYQK4NDiWiK5jkuAYBpbGBzsHMswYMy9AAA4kAQgMAADmDgIDiyYNAwegwQWr//OExM8mHA50ANzE3ddEqkYt3gwNfdH3v4dvm+Y3xEtvWPbV92zddLs9GK0GWLfd4j2PEzvPzfV9ZxT//fmlb3f7NWlqkdV3//l3dkX+YqUOJHLEQKwkLNdlZq/a0ipuy5mdCmYWHXKhlOh2EbiVkECOzjmuRdr7qUVKgkUrKUOiIqVhorjdMEAk07MzlwIMhiUwwVTLAVMBgQwGGzIg/AwPMcAcx2PjFIEQ7hQDGEwAXTFgqYCDo0RTAoEEIdOB//OExOksBCZgAOPK3RQfJItSyIZTsRhiRYZ0VFbv1sN3NVqm86apa7v7eN6r3nMrVimzq3t561hj+WXeWqbH/s93r97x/+62VHLLo99yVY+la1dSsj+qWmV0ptt/77PddW7G0/8uZGBPcxnGQUUMYWFQdWVFSZGMyxKODHWgndbR2v92XDu5KdodEM0uss2EDktMicBQgMIwEViSKigOAaPwy3F0FLlG2zUBdYFAEIgBFQAdDGSKhfxHLrp9DgPm//OExOwtI7JQAOYE3aZtzQtvYT6CxSrOH0fflVsXL2m5ntcTQrbg0tXGMwYsKGyvsNzlG0+3vEuNV1iLTVLZLClI90lsBOp6eKy7t7N6hWNAIx7le/9tQJbATCgpNS/n//kUOsXJgTMKRrcpmew7HqgoqZNXsAjpidAJpUyYb1RlhMktrFgrMHJDkkM9IXAziBANKGXShx1g29fSkl1ilq089QvrUTSROR0+E3RNjk3fz9XKREkOvch9tnk1M13L//OExOosO8I0AOvG3Tqw3vmzNb5P85Sc+cd5uyhxqM7QrnVzB9FXEuVNTv9vPPd0edAqkB0VWGPmYzInQ8WvwUb/OTWay2OJHyedprHxfbnbts8Jw+u2ZBs5yeUbU8u8IoHQa1ZRsmHVOSh7Tq2hCXam2dns5h2GX4KQ1NQl1TACjtpDbcQqODhTLW7tq1mxF1lM6i0Pzst1LZJL58PQqND8G6WIgioRZQ1yz5LGKp7PDEKYKCZ8ekisrcrS8oxj//OExOwqlBIgANmM3VI2rlkxOllLcw98wTulErSg6rei4bWmz6VjMwlTUuLU+o0iqcSOQpDws0qnh4lXIOiNSsGIl34LGXjIQRWUo2qJnkTrKOBUSvy1w8YBJ0etFZNGWJzqtmmSbpxUhWJ6o1FVHp3IL2QYgeQpusy9V5dkYYy/UYaqEqg1oNsPOfJrWqGGZru5RSyq9HHS1NT8RaCBPFJCfdUBrFWiCXrkMl52gbn9cflBKd2r2maOVPEkaXXf//OExPQtzDoYANIM3JBqOTnNWlowbnOE/urJ30UkUWOjonqal3az8po1j2Sl+aOWWVA16LKu4wuYJ2RbH9PPOn2xihH0iocihSyjJUkybEyJxsl6mo47rtM4zCcalZ3JsndntCaOdMjqaCLNMJHOl41iCar1CU2U02SRGt6M0pT5EpKVJil6XrY++KD89OyyjjjkPJdksLkb71oxEpQCCdChZaWR2UD2CIlykccBXkSknD06i3LT7I1ar+nxmuqE//OExO8svCoUAMJM3DU7A9zmuQxM/stpRQZvz9T97gy1/aQQmMIFROk+jTmsjpdl2fbcvKWWx4G50br5pcoXhTkEHzCJJA1UmJQZY4pAiXz6NLwhMzXMnKhAuDvEnb3OKe5hNZ/9Sw1ExsSNLYytLSIQjryjz8kw3bXz8MM9JU5I1UmgwgTPV5TgVGzEQrDFANzHUOTAMBULggC0MmmJTrDwY8DY32p49J42QJSMQDciRmmFCEhQCNsgMQUUlNs2//OExO8sFCIYAMGM3bTm22T9lGsogQp05O4O9nMxfVNqGXiKc55Fl8HJLvQKTO92qVHS2SZGvO58LY/2dBardqxO3TQmm4iMpEr11x2w6/LJaxjTmS5vf46KVmpGxfeIppd1VSZVwlJNa3HFludLJNbJTedHIQVLJFhUWFnpFfNogdRiqdF8ylw0NAjstAIBYiDoyHxk1LNQyfMsxfEYy2PozWHoLhuY+DIYiCANC4YPiOYegqIQMMFAOMHAaMEg//OExPEvvAogAOpM3QkJiDhgEAiNDE8J9GxOBUiJhcRkiwZaN83pQloAC7FmxGLK8AAIuhAzKGCP/XZ2zxMBYRm8MrDsTfZIhxFhGCQ/G43G6eIMQhyULvfty3fn5RyMTlV37UxDE7bpHAYPE3XVsbSN3HLigAgYiFyddHIExOljcEDEwCAYiIxWFw3JA+kDHuaPahCFJAgAQSKQSZDajp6uRisVgmfCgAAIRtAEHCAk8BGDE1E2yMVlgwXBN8kC//OExOVJXDo4AO4S3AQEmcgj2LBMVyAcC1mRWFzYgJCfYEAIEjESMMIGPqMnfBGRit5RRA7tqMQYdFHNi5/3OoTR7dEBJBBSiDKYXRt1eBkibZ3R+GkhQYBHoAmR5CiG3DMOpw10rDSh4KEaFAUiAkwoAmKGAugUDRvZcpW5ax3JdxGxPhxGWIDIEYgFBED032aGm6bK4C3Njo8FAEgBi3vVXZehLXe977uu4EfXJHAAEom8ZhjqTjiXj5T2DgTl//OExHI/3B5sAOZS3Ympfb1Xt91qrXuv3XkcEq7ljOy8iZjvt+8cDyghNvhG8rfKMp+fn8xVAepiCTGrk7C6OajoXpAq/YXuNJqTh9zwh5PpUgFGsnDBJYoC4046K2goICQA4GxPMnXbnaCoqMMUUQUoo7CBBLG92VRmv5wcnuQ1RGTrk7c9u0E/DL8LyM6/9ecNmtCOwfQh4Aqs/LMDGxw24YUiKiBqJsecsBBUYSWGfgZmwcnwuZJJAY7DowIq//OExCUvmt6QAN4WuHa24LgQG+76vjATwaf2Hnolb2PY1lhTE04U6DWoegdSl/Is2VnD+QNGaZ9KsW9jO2Duyr1319NBaK37/rnTMezQ3pJBNhsaGxqZKlw6SwqBLFMHJWCeWEASC09H////9S/dB17nMtjj7FV3NYrEy+/pk9f///yqeefYy5m3LxZ4uSpaEHDrluBUbUFYoT8nLOABE4JRRf7PqTXGo2FBgAsKZzY0SDFZ0zcFVrR5AgSTAlud//OExBkt25qUANvQvIKZ2/jL7AZcBiYlU7evU6uGVhOU7G5dF2V5CBJgJ4P8CoEUHUhS+dieUTW4OnGBGTU8ZPTktOkmRxm5JCjRdQYuPevvd5TdCE5RR4mDYnDgGxtS/xUoPiKpEWLgUHqo89HF6FlFRIWLmhy4xZtOpeK7rtq77rQYXHT+lTT25FUOzS+0o+4/vt/7/v//7tukS5RlsmkKChdLzhm5vOSlCt54R84uW/FH7AkUNnvyry3X7lOX//OExBQtHB6kAMIS3TeV1MrPytd5q6jBaQeCoXESaqq7pEpu/q2FBRI9Pv+ej7+kUs2Klptryi9tRBMgRrtHlhIIEA2Jy40YFB4QEoTwSNj8kYLi5BZIpFTBWFxPCd1to0YrfBRNfbRzgpkLaCgYjODnmEaWPXgoggSKZOnrt12PNRGbqerydPw6jp9RhS9jmoIvmu9JVG3lSha+5NrJ6QOpAxnuTGbOsxHMukR1ORpOYma66O6Lv/f1LIoMXK7T//OExBIrdDqwAAlS3P10Op2HTLY+6JKruYhDB9Bc4vD5WtqKSEmXFczIPk02RRIVkYOAa5qMxBxIgAIQiEV1yC3GQEEIJpMTGCcvNSbBlGmwQdVGTsGDJdATkpKfSYBcNskrbJUmXc4T4kgLEiMKGRJbpOQTba33rUKxSCAg2CPE2+iySEibi9owlf1ta0i5tE0XxAXK2ooQMo9hBtFjC6hAKKq25LMvbbQEFTkaddvoai3//8i4pLf/dTghAY6///OExBclnBK0ACiS3eyLtKcYcxjsYowE+RW2uuwvBosNjAWEoDgsMjoqCpgEn6ZomNCCyEMlk4K322YLoD5KkiSgshmtUpxxVmKwqVSEzb6IlY41p0qqn+qoiXySt4ixKrmmhjHLjkfGKrKGCLfvWktu/ajeSuCuJ4145kUO+sZy68VLiqZj06SAJu+K/VCVWAbJeqGa7hoaP/Za3F9fSUlbf6TISkW3r0Siz4CAOw2I9QRE322iTdjB1qH8FDx9//OExDMnvBqkAMIM3PENzxf/td3koNYfMj781b1v6CR1BTAyUohN+25RJLm4S1yiVYWCkYAS4OJZr1dPPry8U9Uow80jNEjiOWajhKZS9V5hjsbXzGreVv7M38/62x+//zJ7mozM5TvMtVVR0tVbMzkmkc/7HTKrM9djxgZAe5826IGn7MgawMs+1ye+kt6r1n9pa0VRNNMs7S1XKnK8zKgXngvsnTO2rL1m2a/KZXjp0h3tLMO/vT+zWZ7f/93q//OExEcoK/acAMsK3fxN2uxDV1HWjCjK59hwlUTEhqB92FQ4CKQ8TV1IV1HsRmWdyEseKOREvqOiW7ZxBimjY5kke50oKZxdCxqZqM7WZ6MNRSvJIrLQiFsrUIqva/IcOGH6jmv8etXWZnkS6oDQ6FvpG77q7sbw1+scP9qnZfVqCEREAMHnJp9+t2uf//7bdbuQhWQlaTGYOSx45mEAQywmHCMRJFKcaouL1YcnLJLPUJjbRptheZse4x3gUPm5//OExFkklDqoAMFQ3J6qWuz2kqg8csfM48iqc57GOs53eeya7tulV3e1yXZm8XMPEGIq1pb29uyJi4+Bzq6D4zbeWc/MMSqrcLQ5vC8ssKHiJXX/v8Yp21r/0sa+v/9EuRv9v/QtApqucwcv1Yg+FZXDxFbJXLwMKBFF4kXgeWsK1pnWlUitmjrWr9orOGHHEUdXHvs8/SKu73Ox9Cx+bR17+2lErlNfiaYZYW77laT053zVfeD3N3Nr8/Xqc6eS//OExHkmdDqsAHiY3NN1bjhosexpTa7mt/jmOfa0XbDZJrd8sxeNuO9bY9T8etxAOMsyXoc1fuIXgac6dHP3a+GGGGf4Rh97e+9iMsqExbmGP8b/72f/of5ZZ1xDv/9/3I3tfz3WIxyGLuWc1muJUWs2bJqSh8EiEI1DwVA2OcGrmNKMSaVKioNQ5NgWFlVa67XprVinJYWFpprzok2J6ZhXh9e879imaWblVVVar6uY6JaIHs5rewtcw3NXo5Ir//OExJIn5AKkAMGQ3Wqiw9acVFmklE9/yxVamk/zB48SCbphx4AgYwo4MwSUczCScOQJptGPyt151jLlPCUNFbPdW5hwtriWKZ7IdAwT8OsC2uWk8ZWdZhRKQVqHMtt6HqVPoha6qzArSXHxXON0ta8WJgfQ0PA7AiUHMkps9nU02WypqkxPUQzWvarNXM16/66/P8///9f881NetfMTU0M6/maiGoehLVbf9/apFy3kjoiZzHOX/X/phlTI6ZIY//OExKUnw3aQANvQvLg0pFjQdIDLQozEwMQGTFBEDFLE4Yo3Ke6KxVacqEsBpOT2vhWlVsyeQ5/COYW4L4Wo0UYr1CzMKhiwmazDBQ5RL50wS2mT8+LBi4jVe/Orbe1hRth45DgKKAEGgCLgCOD0RQPCxg8PKxn/L81Wp0ytR71//9v9v/9FZS/8uhpn/8tHEX8ChvQU3wXGMAgnMDRcPqQ/EAQGOTomTAxmBwOmFYfAkIQoKZhkAJbtDEQAWIwA//OExLkkc2J8ANvKvRLlUoiep6VVP1G15TmH0bKihO6zrhnXBejSJ0QpPk5csvgpM1I5IkChR7iNo1JK5YbQEL+mBMJLTx1DSj4CuxGbL6y2Ls6EzJISkB50IDENW00KZ15tB8KQiTCLQsKioaPXPS9CA4RM09bOrFWWXIOau2WPqTaK1RYbknHNswY0oSjcMYM9gAwiJDE4BFhitUs0SgssABzlBc3jWrGoahqD7dSfopSDU2B4imJh0gjByoRF//OExNoniZJIAOvMlEDxck2jaID4cMEEcqHGxdSUogmD/K6FRWqolcPVJJrYoVFTLiBY5qStoqphVZqVZl5FDKHnnuePOSDDLuohJ1W1U8fO49aijCPksXmthsDpmWdYuanr4/rfhoRuk+ZLriK70m+MdF9L7NRDNOaTGm0S0PmEvWHndnUKDxgRCF9ACWBSYcnk5yioKyJiOROMgJjQYGqF/H8vLuvJcQDFHHuRixLFrRNqNOzSAYnDdJy5GL3z//OExO4s46o4AVxAAamdBMdtNHB52WMtpJRYfyWcbPKGNqfcx5XkT3TOHjtne2kpOUlJYhyMsvisPzTgum296gcR4U7VI0liMUnKSk5LH0brK7LeJAM3Y4kIoOsp3Gtg0JpAdil2iyNj6TD6lj6TD7C6XHe9iDyNEa7G16Lzn75cNNdxhCADJZGLoRFFDqYPmzXn2P/Dnf/8P/nwy/61IEvMEksov7xm870Bx6AIaSsSUHwB0FgkUV2KXNAWVCXj//OExO1N3Dp8AZnAAGVNc/D+9/uf///+/zyw535AmAyxrjsP4xBSbKJ2Mz9uGH9WvZgiJvzHrwOa3rQU3W8QkRFohfpFNPdYAv4ygu6pkyZLln6KiJiZameruAjgcyAZGyufhiTPwxmB3LldvUQqSKJyelqS6vWo2yP6x5oy4ZMsbSwP3R/KdyMY+0eyt715ui+8ZFWpWxzWTfERGtAOmFiPaTEaeJS0taTSanurJ1o+CbPi2uodm2LmXWrbr7Yu//OExGg4hCqUAdh4AdqEtSiTghSXfR4mVyysuvJmLL8TvYkK22uC9exbZivWWbWfXPpusXWs7xmU5VQTpVNTipTRRp/OTLAc4TuvbYuq3rAn1Xwfl9Gzr5rEfV1B18xYNK5rqC9raRWxYMGsK1aQdVevXsj7eXuPjwn1qsMX1evZN5rVhivaT9b0q4RuCC0xOUxYcb1phg4CvtoIhFQMVqjWKXjcB3gYJJxdqtj8wJGJZI7lLG7D2QPGVDHycJn7//OExDk0O6KEAN4WvROVSKZL7DBS/bsCQnzil6Kw77yv7beSRuXSwND8QUGanCYfZI8ctkMcq8xsv7fp4OGwoHauQhrQZOODyWuWMF7ZC3EOQJxJP5JOpDpJR5h07TtvbquL3ftq5O197aVa18fz88Xu0rva6HRF16LpmJhdzlLVra9Q6WUu1keeOU3apw5KVFFtuqdt22FIf5B9ZfXyL3U3mn2vg2QgUwOvJx4HdgKkAOTG0QQmMDSNC0TAgkys//OExBsry76UANvK3UVC0HQETpIMOT1RXVSHiEE0snicKxlL+f6G2aBnIekDoDnEcGwXJTKwuDBDT+LxEoz0e3UMqveJx0wOkStt7G8y7cotmp7Eo/gUexoKLYpoMfEaFNui94mPJGGjRB2FHv/+/6XZFd93P////2o33/qq1OphQgoERdCK7IMYiEadVOyFE3OQjMjEURT3j2gcvq9zHu2qoZQxM5iwoHSEVEGLQvdNhcYJNLD9mA5BBBjYMJmd//OExB4tM8aUANYE3UacdYRB0I6tMo3R4Q0xGRWJQnXL4sOqSQeVCabIA4C0k8i+ELl7IXHrxhp/LrtSWnuvyweNMSXymA9C00eFYIKhbkQh9oBcuPxiNyemuyygl8ovWaeQbmKtuzhf0ixR2cpCgzCxiaf//9Pdf////fo/209JkLIQpVdDsCBAJBYJymEnOLIcGazO01LTnZVDI55dRegq3+7kraQZ2QNDKOPmRSSuhEAxADbfQEpidWfcE1nE//OExBwnebaYANZwlEuOMhQUj1ZKektShOyfsaUS+Bk7k06OoSHE0NWbCoNPclrBM/emBK9A3SR4YM8o6kbXjYkL+D0Z+bYHFK3YAt6r1P7JKf8Il/fhq1MYwdvufOc53WPO7q5kCH///T0aWBeiThlSF58LwdVCYJjZMeo0NBdbiAuVFyRKSGizwAooHBvGgTvMbhUtiSAg3wGGWUCBE+bvycw7MozFQC8itbTnMpx4r+K2F0Y/OMAhm3Da61mw//OExDEn8baYANYelOPggKa876ICwKgCCQua2ekdhsL2GhZixYDFa0BvcOznLIkUOKtzSQ6bUUyt0wSuoMetH8aWjzzSsjuLE3XPzveN0xiDDmHuC//kT0W/v/a4RGgLFNCmpCI0JGmFBkRFVCaAmtsZbLAB6XFplhrNKaF7BQc4MF7koItcrS2w4EgrNo9gw4SeY6IywhkuuWTGiOwtx7nlbhKX5dSVwZAUhf92aR4lcqhWSislkn9EX2gWAZc///OExEQnw3KYAM4KvNDE+/t6QVZyO1I1JKeM7npTB0JplU5l7XgtxWxRyrU5vFVHBAbUjsCixh4rUzFI5nirB2LCxSq+n///VWJ0//8v///tZvfS/R7XRV7EQYgrbjPI7DJU8waYXSqoQgTU0TjAzAEjOHVBUCI6IL+tSL2osmCBgkkPnLtJnjU2CF5mcLWZnYZTAkocKlpI7S5MlpGkNZdlHtmsAuQw6tORKX8NLNFYxRSkqzFNmfiqsKTiMmci//OExFglsYKQANYSlCJFWR5C+p3JVm520qy7XirpqCjf/9REYpbE0aCqAywLb7UOSsXKip0wZU4wWPgqIg6JcVq7I17CM8kUBcXUZYKJT4SkQ1InbhhcMs9DNOIvGlC4oKFF616N7G10uOpw0wgyeWUJft7JFmiqmIzrSOTCcO96JofyFRLMsWSkV1iP4VHu6bz257Ge2tFixpd6rrGNa3FrnxP6z6m9t6/+iKVP///+dOt63abVnTTK7uiqcio5//OExHQl9BaIANPE3S1WFKWiVa9SoWxdGI4IkrhiMk0qtJe9HJ/9WQ5bro7XFvmkzYiYOYD1MBQKiGACVRWxPBImiN0bdZL3swgZw30ZnDrZzhKvt2QrpauoQ4yTEVx3ElcBkeywdrFjz9uy869TbfDCjeNKQL751JmawTu/DFS32t0zMz07/2+6L/+T/+QaIu6KICIMuLiDCYkQTXI7RLFFIjyPba7JrQ3pZ9N3dTIIqqIPtd0v7/97mRSl2u9h//OExI8knBaIAMsK3agyYaqGzNVYdCoEFBk/ba+V6q2tIj0+sZYr8Ps7Y4Eufrg5OVnzvb+G3tlXSeY3h+6HpMpXiNnLBdabcR23LlvUO8Sm7RIi+fZuuK3mfWKYzjOoWdbI6ODRr/Wm/S6nORCIlkbfVK//HPClCKFaZEWaVGMeZbgyBUHAWRSoXsi/2+t22VDMyGChrhd8vgGdnIr3tvH1TeHMZ6/tlQhoEIqejBYAZvnXjEWpJNnD1qvGuW7t//OExK8lq2KAANPEvciy5BqFpOKl3WyHTDWnSFO2hcOY93bedjPTGIIpr1cW0/c/z33FWzuf/rN7NjZ2gmTBwuyd2YAx7XD5u64OTohjOaA14enZ+lpufZ6e+HTrDydtbNCBiEIQ93/2hoMj97vN/u/e3fbtkS1tm93vfbf3b/XvWk9m4fZ8AiHn4VR7cSMICCp0EDRJYVIhT60s88Rkco9a41TGae6eS2d+GsVnqOtBcxGHhlbPzqq2UINHYCUk//OExMsnC6aIAMrM3ZKSlu7BgVzOrlFFlzoeHDkBZE6SjGm4Y1I0Qmx4sN6jbjzVrGtvgAQQwTgWgFQGAaJjow/7uarJIQkn5QMyGFhF+uUa/Q6Evl7T8d4yrDAoGDTBLXGnBzgvWSrMpnT9pWW56fitSRkNiEKMnaHtLXCa3avkgSxqtuoz1/qW9nsjzEK1oOMvJNX8eDC8F8+VEZjgRatjhDY2Z+4zuDydfacMajb2pMnG7ofhoP4j1D2x1Cex//OExOE6jDqIAHpe3OjnFpLGmy7ZIdUKEBoqm54kVXZq1dF9vZyhs8f9+ZclVW563DwThn8W6zEsgSoydrEJNce+rciJSY2MnhGoxtF0ayI9qhlYzanIn2fkdHNwRDk1GFTigiS4NC80RV6sOqajbLBDssoluMRZLKWSPNE4NfaCIi7TCXip3uiNGsqH8XPlEuhEAS+ZqSilrVZdD85JalyDYamHSZw80zPwQ4rWIJfd3oLceZlcQgGamM71XmF6//OExKk75DqQACpw3IMaC7qxTfUjeNu3q581eo7WFynr288L0qsWKKgz1Ur5V+RmXRSVReIS50qaxF5BlNd+tZ3WlUrp5yW2sMp65MSjP79q3SV1BG/tVyLqnf5+/avr//9os7nO3qn35e52+7TUmtAtoeDzsTKuggGj53IsEpEKLELQvSVLvoaPS7YpEwEfJ0aoogNcnY4TkVbaqFTZXUUHdH6ZSMVjG0VVUUmCw0m82wFVtbXmiCp1TE3PPLHh//OExGwxLDKcABGe3ThFeWfx5osNctvbKQUyh6KcmNXsScX2xkhbpFteNvcL03mBrbK+f2j0kgxK+9641um59dju3qNs8SJXM8OdczwmB03PJo7baaLfcKN60zJN4kPc2tzwaRCCMNS33Vui719O6fYyKzmddk9OlRFTGRy3MqoguKiAGFR5xUUUaNFXKHnFA0IxCn7RSqA4pafWGFdQy/ABImcW6ak4MgfqNPDCb87fpcYBzuu9GnW5cqw45kpf//OExFo0zCKYABFw3acWU0UDTLtVJHGZbS3q9a9lM3Y5FrUfilyllurkZdp5srNqMSN3Zt2WuxXu93K9Sru5TfKZrC/rs13mfNXrXbWNNu5KaWzeiNbeUchuWzsdjMknabO3TTkWwl8WmpVDc7Hs603T0udLYfq5Ga1absTVa/2lpPrebZNVCTgqiMTiWNlJEkXUUUUfb98zaZmZmZm3zMzMzWszMzM2mZttvrWZy3zbemvWet7LrS663p2vLozF//OExDkupBp0AU1gARGUR0fIZNgOj6F7cTg1YfWnL2su9MyySj7akk91YAMPAVHLC5d5yJL2razaE9gpGcxLrklSmd9ahE585PYFuNHT63PZ9nmVuQuza62B6ZrbPZ61tW9m8u/jpUc3PSsWmYI1ruWaQzHP85bcOmzGJd7NpZd05RHT2rVruey7zJIqiWU4gJkpjhsFB2dlUblEro4mkXY5fybZliRu74NzCq7qUpFbuKXJgqCt2U7pVrdMUGO8//OExDEzZDJIAZqIAWUKo760qT3QqkwISClCyKDJNa2poKUtJa6iwOYeC5gMuCPAuDTZF2NrLRmZ1M6s2iC5XHkPjGTA4AuYHAO9BJNeyqkXRpJO6ldxZgpQSmHxilxS5ACcEAEzRNRi7WorZG1K2tG22u7IGhTImgLkIhGbJ83LhcZlKdV3X6t7at11qe9TMt1KatTTQn3c0JgnCcMzc0MCcTN1EHdE9HVJpy04VVjpcZOAtRwvvlia628xb6zC//OExBYs/B6UAYx4AfjO8/+3/3PWnp8+Suv/bMPdv5f843CiX181y/Z4lt6zEpJjO8wKTsbtCFiGsMfkkeLtJKkLW2OakxZh02HGrZGe3fIY8nxNmBqzyEtHefkPGG6FBj1ixnOuPiDrOIm4jzV///vWa2hRoWIU9H9oOqNeIUv/19QsfX/p/T33TGa7p/6U/x/TwZqZfbvWmY3vAk+Lf21f01fVd///EY6MhgFKkMRwpcNwBKJEnTbsUfy6agu9//OExBUsa7ZoAdhYAflarymtWpdp86hZ9Y5aRAjwBo8NZLjpz5uNqUJOcoPwhCUEkVY6Sw9UxDjzWP9yB2R0h6KgRiWakpdiT21xE93JNHwwHLiw8kboJNG0dqJNDyodHodpYmyVQ8mJNn3nW7upk7UpXDaj3e1lxZJNVjZzukWSoeNmt28XcU539O/6+HtidGm1xNdxdy1u359sHpBQ03WXEslvG8yaOG1bBkC2rwsia22ZeTxrGUVQhTOhmrEJ//OExBYpAspMAMPQuZjJuTnysPFqI/iPWWZib9RcxMT+jcFSXBPnCrWFxpiuvW+oX1vEzk+isUj8VFaZGmVKOuVDoWAWAWB0QhGBqdxF3zHAdDxoquQSHoeqw8pnuyQ5IEZUkbDNfS1krcRNQlzHWy9XTaW3E7LT7M2SKrxX5vO802Li7QVKSomyYx86+JtunIn+p4LLomh3i6Vx01ndY6kUl8za0nLKxUANErukrmirVSoUSISXFQvpH0fVPSeI//OExCUjYiowAMPQmPrPWKNNt8SIqz9Tj1wm1XNdxPXKuKrcjxwCIgHrH93zNsyZ1mixKi1XPHNcqpVwNTY4Pr7WJ+v5qOrpRzFWtHHVAZwmUgm9KjweFxrDl0WJXUaGj3MAp0aZakqald0GnFw1i2hwvbbahTcdOaMBUvo/Uqcp3n+jMOsiXV2tWq9j1nabAZHS2uzWXVtma8fMlIdrj0AKBEs9k6zW1rfrnvSy48trWKcrWF1mtZsgY1ZVCiQw//OExEok0zYQAMsGvabz4ykqrGZsgpar/yqVwwCJAQG32KCVLwTbFVX86vktCnnzvNS26q3KmZkTMbn+XS8Mz4vH5Ru8/qY7r2KH2UhzH/aEUCvCrarVKXPKDLO/Vs2b+q2rWdyVfVinK5gqi160tdRwOrs1FdwakbKzEsajQ2c3kJtF7MUitfyndG71h1IOelGNKOPRoaJ8MuEGs43JktFj9l9dTkyPS/prbGdC8acZ93TMIujnK5x71LfJ9ktl//OExGknlDnwANGM3PKqqpo3a7Tkc7KLrVe2l1HPqZrPITT9uVLa6vzmJJNefonY008tdYbLQ2y7bB1W2M7VcsVq1SmxZs91Ty3Xa9jK9Wv0Vqg7q3ZXv2sM3w04h6WC78PQUYmZYw7CCFymaYHjTCzLaMEGrk3atpNzwSyZIJJF991ECF3MSjhJgIoWFhClBmKs4V7B3JmC9t3LY+qZzBk5Z75GcNrqKQdaWaiwmQ5UnbMOue7LNqmdKk8N7HRy//OExH0lvCnsANGG3aVsIq1Z3GdQ1Mg8jmxWDwLFGFoD4+ZqwcVOK9lTO7W5a1Y/O3uzfqV88rljMp63mIQZKSB9n1N0c9xuC0nXXLuZhbWackpaBRxk9nR1jlE0Kxta16zY8XRF8oYp4g6UTs+FSOg8FI+CgC0ioQw2CYwxDhNS2C0+RjoJ2UYnNaTQx8jQwUch1cQeGSRwCmyCKgTUof4ORyQq9c61PCmm7DJcQmwgc0xJo0JKRrUH87ZQMCor//OExJkl5DHsANGG3dnzFPZrax1Z1dwn4/c/lLuzxULiDocntuKlJAUOYqy6gpGA7iMRlicom4QPML7I66D4jlpVtRNH/UBRPVEoxOlFRwEMKEMqh0MOVBhsQDi1BBVqSu0M1exzZ40Mx6WZJHG3BqMCJYpajpD1OBjpIgQJCxtf9KYtu65ZmZohSh3JRRuO6kHfV2UE5xT6w6eGevECWErQaugyIAopafl3Gxa3bsbz5ZoN3OU1uZ6PMSnGMYsh//OExLQmpCnsANGG3UDInHpDVJF6TNoiehmHOxsn8GKNSE0YNkuJUWRUdNJO5RJ40w/vncyoMkG5mooX7a2ggYYEiBY47VzERhAUnEB4FDqOjiD2lRcpV5mEuJREpH7BRxGIFJqkrI90nFOELyCkz00Cg2z46j+5m6aa3p2tTbFEyEgNJrTwqB9RGM7iDRAyKge0PVUjqkFMZlx0USaWdPqMdo7Ero0KWbZpkIAfElScexNXWl8SQhRODYWWcYnj//OExMwnJCHwANGG3VoRSjXhLJvwDRJx0Q/0s7KcNzvUo1CWvsellmRf28v783My8crD0Xb651NstmyuHfotcsXWuyqP18rCvbvXTjUL7l1cV/r+GsxfuKbfebn+VP12fIi5rcj42vkR6R1F/8d9mi/zO7FuN1UrlJ+vHqCpSW6f7VDXzkVNeoKDLnDVvETI+uzjcHi6ZKRqjcj9EhMpCKFKdsajQIZhnWhtNWPtBPiEViggXibXLxPJtyRxWRrs//OExOImHCHwAKGM3aFcRKrNIyVVDOSJtiaBhPoDVNSXWQqVB6+obizaKc4tSZckvOd7KpwhMwqojIImK2K5qRjYMyMxm2WRWxusol+zOGN02lv2GYhpYTG7hKmC1ZboXHWWIJFsvE1oNz3zcgJk1HZJNu0PWUaphaFrRheq4iRp1GkUOtZ1KfmdbDXMbOX6p7E5FKebqY6y7pLiq6hVPRB6WSrHlc5Rl6DCZZ14xha2GnrQxNJqDJlVBE8ZOMXD//OExPwwtDnkANpS3GDa8qKSkbdmLXjUVl+qiRRh7PD5WHFaWuTzkYLlr02fBCnSSdCpo49Y9s1Kxi3ZqEpXFxrGJyZefGVv9pbJTtFo2Gpi2RKHL5PnEitc4u3PN0+YPOVcuxJTV8OA67LqURulopMVoE+15xnzqUvQqfDJFommoidd+crT/amEtwt595hlqU0279fsJRmbNrtnfhty65NaGJNk0Gn2oIxX0HA6RGK+SFbJppfYl1ZjhzWDMbZu//OExOwrfDnoANJM3FWWlyVdFbcCRUzcFbjlFG+xAgYi/YMoYj8sZNsGOhmdPWZVmzGDBHGOSnRGjgyrNDKoVi+HkUNjFH4NnZJQOQmjgxHXo3OkhdBOJ5DIltuSmp2q3NbxVThBxi2m5w72eKpkDLJqdyTxuKy2dLoaj3XBdnKYJG4zLI8RRJ2WEkcaG9SOR+OX6OJSCeg2ApTTyqBs4Yl93vJcfHz5i6IqiMlJWD0SmiajQiOJD4lKy8tL5qU6//OExPEvZDHgANpS3BJeMi+fNohxgWD/RlYP4sMTJalYQj0sl4dTMeE4xiPKH7SGYjG6eFoonwt4+LqNKrB4mtUiQolhChMrOLiwAi7zgmJsIwcmgHmRWTTUP6SKok3kBdMyREy5kyuUFcS6AVLRJhU4UzM9AbENoBEmZFKRVYhlooWNKFjmn28VJVISJVkb1ky6FZQjNoB84D6kZyMlbGiZtCFpXRVkUzTEpiCSaPywNKuIzxOIsNnZxbQBUxFd//OExOY7fDnYANsS3HymiCExTRIvPwtTZRcCDBiwAFQ0iEgoBJql/0fS26jiOCda60Ej+p1rxb96IEKkvRYJC30H2fiMRZlQB4ljN1Hqw3CXrkgiHq5Owi5E5iubEchC7D7JJokJbkIKFdR5YrYxp10rDZQ0vUjQn4x+LtXnkwyPGdFMaNVTgo1BCcj3L4dpyCdGQiqxyEVWpYVqBChfOhaGZTJxCwQxwQhchNSvEUvFcLvHsazksMoaYsl8Tjgt//OExKtG9DnIANvY3KBKHF0A1meMqZD5SSYy+tWRBEPqV0rKfOngapxIKaCqJxcINlhyTgRuuXJoT4uJ3z8lMuIJUVHR2jLpYhXHViqmhW1UE47GB/xVaODezDdDo9eshENCRPDsfuMCeelky+GH9A7eVBXPRKTlAtHLVyTVNjmN2JNwdFRwYSEQFC1E5m6gThp0r6Xsra5i7njfqAX5gIGgCjgJIwsXAkRCYKiwJEYaKiURC4IkAmKtKsrNKmSJ//OExEI0/Dm0ANJM3LFRcSiI2CJQTEM0OSkqys8iLkpE2KVCYQtocWmzUtRJsrNFWAoSsioGPGkrxnljiwwCA1kVAI8aSvO+NRaiQGsjBI9E6503KeWo3ZytImJCbIwSNin/8skaYFAqYSUkbCUs1y2mmDgWyLJG5XnZinltNufVkSlkbIlLlt/7ydZEpYKeidstvfZw50TrIui2vLaaTEFNRTMuMTAwqqqqqqqqqqqqqqqqqqqqqqqqqqqqqqqq\" type=\"audio/mpeg\" />\n",
       "                    Your browser does not support the audio element.\n",
       "                </audio>\n",
       "              "
      ]
     },
     "execution_count": 7,
     "metadata": {},
     "output_type": "execute_result"
    }
   ],
   "execution_count": 7,
   "source": [
    "from IPython.display import Audio\n",
    "\n",
    "Audio(\"output.mp3\")"
   ],
   "id": "666b3eeb52d10a20"
  },
  {
   "metadata": {},
   "cell_type": "code",
   "outputs": [
    {
     "name": "stdout",
     "output_type": "stream",
     "text": [
      "Name: en-US-Casual-K\n",
      "SSML Voice Gender: MALE\n",
      "--------------------\n",
      "Name: en-US-Journey-D\n",
      "SSML Voice Gender: MALE\n",
      "--------------------\n",
      "Name: en-US-Neural2-A\n",
      "SSML Voice Gender: MALE\n",
      "--------------------\n",
      "Name: en-US-Neural2-D\n",
      "SSML Voice Gender: MALE\n",
      "--------------------\n",
      "Name: en-US-Neural2-I\n",
      "SSML Voice Gender: MALE\n",
      "--------------------\n",
      "Name: en-US-Neural2-J\n",
      "SSML Voice Gender: MALE\n",
      "--------------------\n",
      "Name: en-US-News-N\n",
      "SSML Voice Gender: MALE\n",
      "--------------------\n",
      "Name: en-US-Polyglot-1\n",
      "SSML Voice Gender: MALE\n",
      "--------------------\n",
      "Name: en-US-Standard-A\n",
      "SSML Voice Gender: MALE\n",
      "--------------------\n",
      "Name: en-US-Standard-B\n",
      "SSML Voice Gender: MALE\n",
      "--------------------\n",
      "Name: en-US-Standard-D\n",
      "SSML Voice Gender: MALE\n",
      "--------------------\n",
      "Name: en-US-Standard-I\n",
      "SSML Voice Gender: MALE\n",
      "--------------------\n",
      "Name: en-US-Standard-J\n",
      "SSML Voice Gender: MALE\n",
      "--------------------\n",
      "Name: en-US-Studio-Q\n",
      "SSML Voice Gender: MALE\n",
      "--------------------\n",
      "Name: en-US-Wavenet-A\n",
      "SSML Voice Gender: MALE\n",
      "--------------------\n",
      "Name: en-US-Wavenet-B\n",
      "SSML Voice Gender: MALE\n",
      "--------------------\n",
      "Name: en-US-Wavenet-D\n",
      "SSML Voice Gender: MALE\n",
      "--------------------\n",
      "Name: en-US-Wavenet-I\n",
      "SSML Voice Gender: MALE\n",
      "--------------------\n",
      "Name: en-US-Wavenet-J\n",
      "SSML Voice Gender: MALE\n",
      "--------------------\n"
     ]
    }
   ],
   "execution_count": 31,
   "source": [
    "def list_available_voices(language_code=None):\n",
    "    \"\"\"\n",
    "    Lists available voices for Google Cloud Text-to-Speech.\n",
    "\n",
    "    Args:\n",
    "        language_code (str, optional): The language code to filter voices. Defaults to None.\n",
    "    \"\"\"\n",
    "    client = texttospeech.TextToSpeechClient()\n",
    "    voices = client.list_voices(language_code=language_code)\n",
    "    # print(voices.voices)\n",
    "    vocals = []\n",
    "    for voice in voices.voices:\n",
    "        # print(voice)\n",
    "        # print(texttospeech.SsmlVoiceGender(voice.ssml_gender).name)\n",
    "        if texttospeech.SsmlVoiceGender(voice.ssml_gender).name == 'MALE':\n",
    "            # Display the voice's name and language codes\n",
    "            # print(f\"Name: {voice.name}\")\n",
    "            # print(vocals)\n",
    "            vocals.append(voice.name)\n",
    "            # print(vocals)\n",
    "            # print(f\"SSML Voice Gender: {texttospeech.SsmlVoiceGender(voice.ssml_gender).name}\")\n",
    "            # print(\"-\" * 20)\n",
    "    return vocals\n",
    "# List all available English (US) voices\n",
    "voices = list_available_voices(\"en-US\")"
   ],
   "id": "5d718461634878cb"
  },
  {
   "metadata": {},
   "cell_type": "code",
   "outputs": [
    {
     "name": "stdout",
     "output_type": "stream",
     "text": [
      "Audio content written to file 'output.mp3'\n"
     ]
    }
   ],
   "execution_count": 77,
   "source": [
    "# Example usage of the synthesize_text function\n",
    "text = \"\"\"The original printing of the Feynman Lectures on Computation was in 1996.\n",
    "Although the published lectures are now nearly 25 years old, much of\n",
    "the material is Feynman’s treatment of many standard topics in computer\n",
    "science, such as computability and information theory, as well as some\n",
    "not-so-standard topics, such as reversible computing and quantum computers. In May 2019, I was pleasantly surprised to be contacted by a com-\n",
    "missioning editor, Carolina Antunes, from Taylor and Francis about the\n",
    "possibility of publishing a new edition of the lectures to mark their 25th\n",
    "anniversary. Due to the Covid-19 pandemic, publication of the new edi-\n",
    "tion was delayed.\n",
    "Forty years ago, in his talk at a conference at MIT in May 1981, Feynman\n",
    "raised the possibility of building a new type of computer made up of\n",
    "intrinsically quantum mechanical elements that could be used to simulate\n",
    "large quantum systems that could not be simulated on a classical computer. Remarkably, Feynman stated explicitly that such a computer was\n",
    "“not a Turing machine, but a machine of a different kind”. In the Lectures\n",
    "on Computation, I included his later, more detailed, analysis of how one\n",
    "might design such a quantum computer. With the present excitement\n",
    "about progress in quantum computing, there has been a continuing and\n",
    "growing interest in Feynman’s lectures. \"\"\"\n",
    "\n",
    "voice_name = \"en-US-Wavenet-J\" \n",
    "output_file = \"output.mp3\"\n",
    "synthesize_text(text, voice_name, output_file)\n",
    "\n",
    "# for v in voices:\n",
    "#     output_file = f\"{v}.mp3\"\n",
    "#     synthesize_text(text, v, output_file)\n",
    "# for v in voices:\n",
    "#     print(v)"
   ],
   "id": "ee2c3d9c8e0fec29"
  },
  {
   "metadata": {},
   "cell_type": "code",
   "outputs": [
    {
     "name": "stdout",
     "output_type": "stream",
     "text": [
      "en-US-Casual-K\n",
      "en-US-Journey-D\n",
      "en-US-Neural2-A\n",
      "en-US-Neural2-D\n",
      "en-US-Neural2-I\n",
      "en-US-Neural2-J\n",
      "en-US-News-N\n",
      "en-US-Polyglot-1\n",
      "en-US-Standard-A\n",
      "en-US-Standard-B\n",
      "en-US-Standard-D\n",
      "en-US-Standard-I\n",
      "en-US-Standard-J\n",
      "en-US-Studio-Q\n",
      "en-US-Wavenet-A\n",
      "en-US-Wavenet-B\n",
      "en-US-Wavenet-D\n",
      "en-US-Wavenet-I\n",
      "en-US-Wavenet-J\n"
     ]
    }
   ],
   "execution_count": 52,
   "source": [
    "for v in voices:\n",
    "    print(v)"
   ],
   "id": "45e362abd3acefca"
  },
  {
   "metadata": {},
   "cell_type": "code",
   "outputs": [],
   "execution_count": null,
   "source": "",
   "id": "b10fb1698592678"
  },
  {
   "metadata": {},
   "cell_type": "markdown",
   "source": [
    "Studio-Q\n",
    "\n",
    "Wavenet-J\n",
    "\n",
    "en-US-Polyglot-1\n",
    "\n",
    "\n",
    "\n",
    "en-US-Casual-K\n",
    "\n",
    "en-US-Journey-D\n",
    "\n",
    "en-US-Neural2-A\n",
    "\n",
    "en-US-Neural2-D\n",
    "\n",
    "en-US-Neural2-I\n",
    "\n",
    "en-US-Neural2-J\n",
    "\n",
    "en-US-News-N\n",
    "\n",
    "en-US-Polyglot-1\n",
    "\n",
    "en-US-Standard-A\n",
    "\n",
    "en-US-Standard-B\n",
    "\n",
    "en-US-Standard-D\n",
    "\n",
    "en-US-Standard-I\n",
    "\n",
    "en-US-Standard-J\n",
    "\n",
    "en-US-Studio-Q\n",
    "\n",
    "en-US-Wavenet-A\n",
    "\n",
    "en-US-Wavenet-B\n",
    "\n",
    "en-US-Wavenet-D\n",
    "\n",
    "en-US-Wavenet-I\n",
    "\n",
    "en-US-Wavenet-J\n",
    "\n"
   ],
   "id": "b9cb131f43568c67"
  }
 ],
 "metadata": {
  "kernelspec": {
   "display_name": "Python 3",
   "language": "python",
   "name": "python3"
  },
  "language_info": {
   "codemirror_mode": {
    "name": "ipython",
    "version": 2
   },
   "file_extension": ".py",
   "mimetype": "text/x-python",
   "name": "python",
   "nbconvert_exporter": "python",
   "pygments_lexer": "ipython2",
   "version": "2.7.6"
  }
 },
 "nbformat": 4,
 "nbformat_minor": 5
}
