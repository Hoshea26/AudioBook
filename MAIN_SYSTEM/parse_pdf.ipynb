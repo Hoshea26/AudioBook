{
 "cells": [
  {
   "metadata": {
    "ExecuteTime": {
     "end_time": "2025-02-14T12:01:50.838741Z",
     "start_time": "2025-02-14T12:01:50.748848Z"
    }
   },
   "cell_type": "code",
   "source": "import fitz  # PyMuPDF",
   "id": "5ad807724e6f0da1",
   "outputs": [],
   "execution_count": 2
  },
  {
   "metadata": {
    "ExecuteTime": {
     "end_time": "2025-02-14T12:01:52.042507Z",
     "start_time": "2025-02-14T12:01:51.064591Z"
    }
   },
   "cell_type": "code",
   "source": [
    "def extract_text_from_pdf(pdf_path):\n",
    "    doc = fitz.open(pdf_path)\n",
    "    text = []\n",
    "    for page in doc:\n",
    "        text.append(page.get_text(\"text\"))  # Preserves paragraph formatting\n",
    "    return \"\\n\".join(text)\n",
    "\n",
    "def split_text_into_chunks(text, chunk_size=3000):\n",
    "    paragraphs = text.split(\"\\n\\n\")  # Splitting based on paragraph breaks\n",
    "    chunks, current_chunk = [], \"\"\n",
    "\n",
    "    for paragraph in paragraphs:\n",
    "        if len(current_chunk) + len(paragraph) <= chunk_size:\n",
    "            current_chunk += paragraph + \"\\n\\n\"\n",
    "        else:\n",
    "            chunks.append(current_chunk.strip())  # Save current chunk\n",
    "            current_chunk = paragraph + \"\\n\\n\"  # Start new chunk\n",
    "\n",
    "    if current_chunk:  # Add remaining text as the last chunk\n",
    "        chunks.append(current_chunk.strip())\n",
    "\n",
    "    return chunks\n",
    "\n",
    "# Example usage\n",
    "pdf_path = \"/books/The Dhandho Investor_ The Low - Risk Value Method to High Returns(Z-Lib.io).pdf\"\n",
    "text = extract_text_from_pdf(pdf_path)\n",
    "chunks = split_text_into_chunks(text)\n",
    "\n",
    "# Save each chunk separately if needed\n",
    "for i, chunk in enumerate(chunks):\n",
    "    with open(f\"chunk_{i+1}.txt\", \"w\", encoding=\"utf-8\") as f:\n",
    "        f.write(chunk)"
   ],
   "id": "3291140cecc678a9",
   "outputs": [],
   "execution_count": 3
  },
  {
   "metadata": {},
   "cell_type": "code",
   "outputs": [],
   "execution_count": null,
   "source": "",
   "id": "a3901f9399c2cab0"
  }
 ],
 "metadata": {
  "kernelspec": {
   "display_name": "Python 3",
   "language": "python",
   "name": "python3"
  },
  "language_info": {
   "codemirror_mode": {
    "name": "ipython",
    "version": 2
   },
   "file_extension": ".py",
   "mimetype": "text/x-python",
   "name": "python",
   "nbconvert_exporter": "python",
   "pygments_lexer": "ipython2",
   "version": "2.7.6"
  }
 },
 "nbformat": 4,
 "nbformat_minor": 5
}
