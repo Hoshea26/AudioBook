{
 "cells": [
  {
   "cell_type": "code",
   "id": "initial_id",
   "metadata": {
    "collapsed": true,
    "ExecuteTime": {
     "end_time": "2024-10-17T15:33:44.359960Z",
     "start_time": "2024-10-17T15:33:44.349310Z"
    }
   },
   "source": [
    "import subprocess\n",
    "import json\n",
    "import os"
   ],
   "outputs": [],
   "execution_count": 1
  },
  {
   "metadata": {
    "ExecuteTime": {
     "end_time": "2024-10-17T15:43:41.553907Z",
     "start_time": "2024-10-17T15:43:41.547018Z"
    }
   },
   "cell_type": "code",
   "source": [
    "mobi_file = '/Users/noctua/PycharmProjects/AudioBook/books/my_lifa_as_a_quant.mobi'\n",
    "ebook_meta_path = '/Applications/calibre.app/Contents/MacOS/ebook-meta'"
   ],
   "id": "7f79f38848a71da0",
   "outputs": [],
   "execution_count": 7
  },
  {
   "metadata": {
    "ExecuteTime": {
     "end_time": "2024-10-17T15:50:41.674913Z",
     "start_time": "2024-10-17T15:50:40.865153Z"
    }
   },
   "cell_type": "code",
   "source": [
    "# Run ebook-meta with JSON output\n",
    "result = subprocess.run(\n",
    "    [ebook_meta_path, mobi_file],\n",
    "    capture_output=True,\n",
    "    text=True,\n",
    "    check=True\n",
    ")\n",
    "print(result.stdout)\n",
    "# metadata = False #json.loads(result.stdout)\n",
    "# \n",
    "# if metadata:\n",
    "#     print(\"----- Metadata -----\")\n",
    "#     for key, value in metadata.items():\n",
    "#         print(f\"{key}: {value}\")\n",
    "#     print(\"\\n\")\n",
    "# else:\n",
    "#     print(\"No metadata found.\\n\")"
   ],
   "id": "80c79718ad81363d",
   "outputs": [
    {
     "name": "stdout",
     "output_type": "stream",
     "text": [
      "Title               : My Life as a Quant: Reflections on Physics and Finance\n",
      "Author(s)           : Emanuel] Emanuel Derman [Derman & chenjin5.com [Emanuel Derman [Derman, Emanuel]]\n",
      "Publisher           : chenjin5.com 万千书友聚集地\n",
      "Book Producer       : calibre (0.8.38) [http://calibre-ebook.com]\n",
      "Tags                : chenjin5.com沉金书屋\n",
      "Languages           : eng\n",
      "Published           : 2004-01-01T23:00:00+00:00\n",
      "Identifiers         : isbn:9780470192733, mobi-asin:c0e7c091-e26c-41e5-b80f-9ac5e3781483\n",
      "Comments            : <div><h3>Review</h3><p>\"There are few \"gentlemen bankers\" left these days. Nor is there much room in the great financial houses for anything that smacks of the amateur spirit. That is why Emanuel Derman's memoirs are so compelling…Derman's wry humour and sense of irony are apparent throughout the book.\"- <em>Financial Times</em></p><p>\"That sense of being an intruder in outlaw territory lends an intriguing mood to Derman's <em>My Life As a Quant</em>, a literate and entertaining memoir.\"-<em>Business Week</em></p><p>\"engaging\"--(<em>CFO Europe</em>, October 2005)</p><p>\"Not only a delightful memoir, but one full of information, both about people and their enterprise. I never thought that I would be interested in quantitative financial analysis, but reading this book has been a fascinating education.\"–Jeremy Bernstein, author of Oppenheimer: Portrait of an Enigma</p><p>\"This wonderful autobiography takes place in that special time when scientists discovered Wall Street and Wall Street discovered them. It is elegantly written by a gifted observer who was a pioneering member of the new profession of financial engineering, with an evident affection both for finance as a science and for the scientists who practice it. Derman’s portrait of how the academics brought their new financial science to the world of business and forever changed it and, especially, his descriptions of the late and extraordinary genius Fischer Black who became his mentor, reveal a surprising humanity where it might be least expected. Who should read this book? Anyone with a serious interest in finance and everyone who simply wants to enjoy a good read.\"–Stephen Ross, Franco Modigliani Professor of Finance and Economics, Sloan School, MIT </p><h3>From the Inside Flap</h3><p>Wall Street is no longer the old-fashioned business it once was. In recent years, investment banks and hedge funds have increasingly turned to quantitative trading strategies and derivative securities for their profits, and have raided academia for PhDs to model these volatile products and manage their risk. Nowadays, the fortunes of firms and the stability of markets often rest on mathematical models. \"Quants\"–the scientifically trained practitioners of quantitative finance who build these models–have become key players on the Wall Street stage.</p><p>And no Wall Street quant is better known than Emanuel Derman. One of the first high-energy particle physicists to migrate to Wall Street, he spent seventeen years in the business, eventually becoming managing director and head of the renowned Quantitative Strategies group at Goldman, Sachs &amp; Co. There he coauthored some of today’s most widely used and influential financial models. </p><p>Physics and quantitative finance look deceptively similar. But, writes Derman, \"When you do physics you’re playing against God; in finance, you’re playing against God’s creatures.\" How can one justify using the precise methods of physics in the frenzied world of financial markets? Is it reasonable to treat the economy and its markets as a complex machine? Or is quantitative finance merely flawed thinking masquerading as science, a brave whistling in the dark?</p><p>My Life as a Quant is Derman’s entertaining and candid account of his search for answers as he undergoes his transformation from ambitious young scientist to managing director. His book is simultaneously wide-ranging and personal. He tells the story of his passage between two worlds; he recounts his adventures with physicists, quants, options traders, and other highfliers on Wall Street; he analyzes the incompatible personas of traders and quants; and he meditates on the dissimilar natures of knowledge in physics and finance. Throughout his tale, he reflects on the appropriate way to apply the refined methods of physics to the hurly-burly world of markets. </p><p>My Life as a Quant is a unique first-person story and a perceptive and revealing exploration of the quantitative side of Wall Street. </p></div>\n",
      "\n",
      "No metadata found.\n",
      "\n"
     ]
    }
   ],
   "execution_count": 13
  },
  {
   "metadata": {},
   "cell_type": "code",
   "outputs": [],
   "execution_count": null,
   "source": [
    "\n",
    "def get_metadata(mobi_file):\n",
    "    \"\"\"\n",
    "    Extract metadata from a MOBI file using Calibre's ebook-meta tool.\n",
    "    \n",
    "    Args:\n",
    "        mobi_file (str): Path to the MOBI file.\n",
    "    \n",
    "    Returns:\n",
    "        dict: Metadata as a dictionary, or None if extraction fails.\n",
    "    \"\"\"\n",
    "    try:\n",
    "        # Run ebook-meta with JSON output\n",
    "        result = subprocess.run(\n",
    "            ['ebook-meta', mobi_file, '--to-json'],\n",
    "            capture_output=True,\n",
    "            text=True,\n",
    "            check=True\n",
    "        )\n",
    "        metadata = json.loads(result.stdout)\n",
    "        return metadata\n",
    "    except subprocess.CalledProcessError as e:\n",
    "        print(f\"Error extracting metadata: {e.stderr}\")\n",
    "        return None\n",
    "    except json.JSONDecodeError:\n",
    "        print(\"Failed to parse metadata JSON.\")\n",
    "        return None\n",
    "\n",
    "def convert_to_txt(mobi_file, output_txt):\n",
    "    \"\"\"\n",
    "    Convert a MOBI file to a plain text file using Calibre's ebook-convert tool.\n",
    "    \n",
    "    Args:\n",
    "        mobi_file (str): Path to the MOBI file.\n",
    "        output_txt (str): Desired path for the output TXT file.\n",
    "    \n",
    "    Returns:\n",
    "        bool: True if conversion is successful, False otherwise.\n",
    "    \"\"\"\n",
    "    try:\n",
    "        subprocess.run(\n",
    "            ['ebook-convert', mobi_file, output_txt],\n",
    "            check=True\n",
    "        )\n",
    "        print(f\"Successfully converted to {output_txt}\")\n",
    "        return True\n",
    "    except subprocess.CalledProcessError as e:\n",
    "        print(f\"Error converting file: {e.stderr}\")\n",
    "        return False\n",
    "\n",
    "def inspect_mobi(mobi_file):\n",
    "    \"\"\"\n",
    "    Inspect a MOBI file by extracting metadata and converting it to text.\n",
    "    \n",
    "    Args:\n",
    "        mobi_file (str): Path to the MOBI file.\n",
    "    \"\"\"\n",
    "    if not os.path.isfile(mobi_file):\n",
    "        print(f\"The file {mobi_file} does not exist.\")\n",
    "        return\n",
    "    \n",
    "    print(f\"Inspecting MOBI file: {mobi_file}\\n\")\n",
    "    \n",
    "    # Extract Metadata\n",
    "    metadata = get_metadata(mobi_file)\n",
    "    if metadata:\n",
    "        print(\"----- Metadata -----\")\n",
    "        for key, value in metadata.items():\n",
    "            print(f\"{key}: {value}\")\n",
    "        print(\"\\n\")\n",
    "    else:\n",
    "        print(\"No metadata found.\\n\")\n",
    "    \n",
    "    # Convert to TXT\n",
    "    txt_file = os.path.splitext(mobi_file)[0] + '.txt'\n",
    "    if convert_to_txt(mobi_file, txt_file):\n",
    "        # Read and display a snippet of the text\n",
    "        try:\n",
    "            with open(txt_file, 'r', encoding='utf-8') as f:\n",
    "                text = f.read(1000)  # Read first 1000 characters\n",
    "                print(\"----- Text Snippet -----\")\n",
    "                print(text)\n",
    "        except Exception as e:\n",
    "            print(f\"Error reading converted text file: {e}\")\n",
    "\n",
    "if __name__ == \"__main__\":\n",
    "    # Replace this path with the path to your MOBI file\n",
    "    mobi_file_path = 'path/to/your/book.mobi'\n",
    "    inspect_mobi(mobi_file_path)"
   ],
   "id": "ec2ca1d7673909ce"
  }
 ],
 "metadata": {
  "kernelspec": {
   "display_name": "Python 3",
   "language": "python",
   "name": "python3"
  },
  "language_info": {
   "codemirror_mode": {
    "name": "ipython",
    "version": 2
   },
   "file_extension": ".py",
   "mimetype": "text/x-python",
   "name": "python",
   "nbconvert_exporter": "python",
   "pygments_lexer": "ipython2",
   "version": "2.7.6"
  }
 },
 "nbformat": 4,
 "nbformat_minor": 5
}
